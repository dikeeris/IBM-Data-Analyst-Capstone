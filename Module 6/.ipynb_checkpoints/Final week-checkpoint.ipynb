{
 "cells": [
  {
   "cell_type": "code",
   "execution_count": 3,
   "id": "0ec4ea42",
   "metadata": {},
   "outputs": [],
   "source": [
    "import pandas as pd\n",
    "import seaborn as sns\n",
    "import matplotlib as mpl\n",
    "import matplotlib.pyplot as plt"
   ]
  },
  {
   "cell_type": "code",
   "execution_count": 140,
   "id": "1105d10c",
   "metadata": {},
   "outputs": [],
   "source": [
    "path_csv1 = \"/home/---/Documentos/IBM Data Analyst certificate/capstone/Week 5/m5_survey_data_technologies_normalised.csv\"\n",
    "standard_path = \"/home/---/Documentos/IBM Data Analyst certificate/capstone/Week 5/\""
   ]
  },
  {
   "cell_type": "code",
   "execution_count": 19,
   "id": "4af861ab",
   "metadata": {},
   "outputs": [],
   "source": [
    "df = pd.read_csv(path_csv1)"
   ]
  },
  {
   "cell_type": "code",
   "execution_count": 33,
   "id": "36b1e2e4",
   "metadata": {},
   "outputs": [],
   "source": [
    "df_LanguageWorkedWith = pd.DataFrame(df[['LanguageWorkedWith']].value_counts())"
   ]
  },
  {
   "cell_type": "code",
   "execution_count": 49,
   "id": "de0cff25",
   "metadata": {},
   "outputs": [],
   "source": [
    "df_LanguageWorkedWith.columns = [\"Counts\"]\n",
    "\n",
    "colors_list = sns.color_palette(\"rocket\")\n",
    "df_LanguageWorkedWith = df_LanguageWorkedWith.transpose()\n",
    "#df_LanguageWorkedWith.plot(kind='pie', figsize=(20,6), autopct='%1.1f%%', labels=None, startangle=90, colors=colors_list, shadow=True, pctdistance=1.12)"
   ]
  },
  {
   "cell_type": "code",
   "execution_count": 60,
   "id": "d9ea761a",
   "metadata": {},
   "outputs": [
    {
     "name": "stderr",
     "output_type": "stream",
     "text": [
      "/usr/lib64/python3.10/site-packages/pandas/core/generic.py:4150: PerformanceWarning: dropping on a non-lexsorted multi-index without a level parameter may impact performance.\n",
      "  obj = obj._drop_axis(labels, axis, level=level, errors=errors)\n"
     ]
    },
    {
     "data": {
      "text/html": [
       "<div>\n",
       "<style scoped>\n",
       "    .dataframe tbody tr th:only-of-type {\n",
       "        vertical-align: middle;\n",
       "    }\n",
       "\n",
       "    .dataframe tbody tr th {\n",
       "        vertical-align: top;\n",
       "    }\n",
       "\n",
       "    .dataframe thead tr th {\n",
       "        text-align: left;\n",
       "    }\n",
       "</style>\n",
       "<table border=\"1\" class=\"dataframe\">\n",
       "  <thead>\n",
       "    <tr>\n",
       "      <th>LanguageWorkedWith</th>\n",
       "      <th>index</th>\n",
       "      <th>JavaScript</th>\n",
       "      <th>HTML/CSS</th>\n",
       "      <th>SQL</th>\n",
       "      <th>Bash/Shell/PowerShell</th>\n",
       "      <th>Python</th>\n",
       "      <th>Java</th>\n",
       "      <th>C#</th>\n",
       "      <th>TypeScript</th>\n",
       "      <th>PHP</th>\n",
       "      <th>...</th>\n",
       "      <th>Objective-C</th>\n",
       "      <th>Scala</th>\n",
       "      <th>Assembly</th>\n",
       "      <th>Rust</th>\n",
       "      <th>Dart</th>\n",
       "      <th>Elixir</th>\n",
       "      <th>Clojure</th>\n",
       "      <th>F#</th>\n",
       "      <th>WebAssembly</th>\n",
       "      <th>Erlang</th>\n",
       "    </tr>\n",
       "  </thead>\n",
       "  <tbody>\n",
       "    <tr>\n",
       "      <th>0</th>\n",
       "      <td>Counts</td>\n",
       "      <td>8687</td>\n",
       "      <td>7830</td>\n",
       "      <td>7106</td>\n",
       "      <td>4642</td>\n",
       "      <td>4542</td>\n",
       "      <td>4506</td>\n",
       "      <td>4288</td>\n",
       "      <td>3232</td>\n",
       "      <td>2913</td>\n",
       "      <td>...</td>\n",
       "      <td>518</td>\n",
       "      <td>492</td>\n",
       "      <td>437</td>\n",
       "      <td>324</td>\n",
       "      <td>237</td>\n",
       "      <td>187</td>\n",
       "      <td>164</td>\n",
       "      <td>158</td>\n",
       "      <td>133</td>\n",
       "      <td>98</td>\n",
       "    </tr>\n",
       "  </tbody>\n",
       "</table>\n",
       "<p>1 rows × 29 columns</p>\n",
       "</div>"
      ],
      "text/plain": [
       "LanguageWorkedWith   index JavaScript HTML/CSS   SQL Bash/Shell/PowerShell  \\\n",
       "0                   Counts       8687     7830  7106                  4642   \n",
       "\n",
       "LanguageWorkedWith Python  Java    C# TypeScript   PHP  ... Objective-C Scala  \\\n",
       "0                    4542  4506  4288       3232  2913  ...         518   492   \n",
       "\n",
       "LanguageWorkedWith Assembly Rust Dart Elixir Clojure   F# WebAssembly Erlang  \n",
       "0                       437  324  237    187     164  158         133     98  \n",
       "\n",
       "[1 rows x 29 columns]"
      ]
     },
     "execution_count": 60,
     "metadata": {},
     "output_type": "execute_result"
    }
   ],
   "source": [
    "#df_LanguageWorkedWith = df_LanguageWorkedWith.reset_index()\n",
    "\n",
    "#df_LanguageWorkedWith.drop(['index'], axis=1)\n",
    "\n",
    "df_LanguageWorkedWith = df_LanguageWorkedWith.drop(['level_0'], axis=1)\n",
    "\n",
    "df_LanguageWorkedWith"
   ]
  },
  {
   "cell_type": "code",
   "execution_count": 61,
   "id": "28e754db",
   "metadata": {},
   "outputs": [
    {
     "name": "stderr",
     "output_type": "stream",
     "text": [
      "/usr/lib64/python3.10/site-packages/pandas/core/generic.py:4150: PerformanceWarning: dropping on a non-lexsorted multi-index without a level parameter may impact performance.\n",
      "  obj = obj._drop_axis(labels, axis, level=level, errors=errors)\n"
     ]
    },
    {
     "data": {
      "text/html": [
       "<div>\n",
       "<style scoped>\n",
       "    .dataframe tbody tr th:only-of-type {\n",
       "        vertical-align: middle;\n",
       "    }\n",
       "\n",
       "    .dataframe tbody tr th {\n",
       "        vertical-align: top;\n",
       "    }\n",
       "\n",
       "    .dataframe thead tr th {\n",
       "        text-align: left;\n",
       "    }\n",
       "</style>\n",
       "<table border=\"1\" class=\"dataframe\">\n",
       "  <thead>\n",
       "    <tr>\n",
       "      <th>LanguageWorkedWith</th>\n",
       "      <th>JavaScript</th>\n",
       "      <th>HTML/CSS</th>\n",
       "      <th>SQL</th>\n",
       "      <th>Bash/Shell/PowerShell</th>\n",
       "      <th>Python</th>\n",
       "      <th>Java</th>\n",
       "      <th>C#</th>\n",
       "      <th>TypeScript</th>\n",
       "      <th>PHP</th>\n",
       "      <th>C++</th>\n",
       "      <th>...</th>\n",
       "      <th>Objective-C</th>\n",
       "      <th>Scala</th>\n",
       "      <th>Assembly</th>\n",
       "      <th>Rust</th>\n",
       "      <th>Dart</th>\n",
       "      <th>Elixir</th>\n",
       "      <th>Clojure</th>\n",
       "      <th>F#</th>\n",
       "      <th>WebAssembly</th>\n",
       "      <th>Erlang</th>\n",
       "    </tr>\n",
       "  </thead>\n",
       "  <tbody>\n",
       "    <tr>\n",
       "      <th>0</th>\n",
       "      <td>8687</td>\n",
       "      <td>7830</td>\n",
       "      <td>7106</td>\n",
       "      <td>4642</td>\n",
       "      <td>4542</td>\n",
       "      <td>4506</td>\n",
       "      <td>4288</td>\n",
       "      <td>3232</td>\n",
       "      <td>2913</td>\n",
       "      <td>1946</td>\n",
       "      <td>...</td>\n",
       "      <td>518</td>\n",
       "      <td>492</td>\n",
       "      <td>437</td>\n",
       "      <td>324</td>\n",
       "      <td>237</td>\n",
       "      <td>187</td>\n",
       "      <td>164</td>\n",
       "      <td>158</td>\n",
       "      <td>133</td>\n",
       "      <td>98</td>\n",
       "    </tr>\n",
       "  </tbody>\n",
       "</table>\n",
       "<p>1 rows × 28 columns</p>\n",
       "</div>"
      ],
      "text/plain": [
       "LanguageWorkedWith JavaScript HTML/CSS   SQL Bash/Shell/PowerShell Python  \\\n",
       "0                        8687     7830  7106                  4642   4542   \n",
       "\n",
       "LanguageWorkedWith  Java    C# TypeScript   PHP   C++  ... Objective-C Scala  \\\n",
       "0                   4506  4288       3232  2913  1946  ...         518   492   \n",
       "\n",
       "LanguageWorkedWith Assembly Rust Dart Elixir Clojure   F# WebAssembly Erlang  \n",
       "0                       437  324  237    187     164  158         133     98  \n",
       "\n",
       "[1 rows x 28 columns]"
      ]
     },
     "execution_count": 61,
     "metadata": {},
     "output_type": "execute_result"
    }
   ],
   "source": [
    "df_LanguageWorkedWith = df_LanguageWorkedWith.drop(['index'], axis=1)\n",
    "\n",
    "df_LanguageWorkedWith"
   ]
  },
  {
   "cell_type": "code",
   "execution_count": 90,
   "id": "9f2bcc53",
   "metadata": {},
   "outputs": [
    {
     "data": {
      "text/plain": [
       "<zip at 0x7ff1020c6500>"
      ]
     },
     "execution_count": 90,
     "metadata": {},
     "output_type": "execute_result"
    }
   ],
   "source": [
    "df_LanguageWorkedWith.iloc[0].nlargest().items()"
   ]
  },
  {
   "cell_type": "code",
   "execution_count": 107,
   "id": "54e6e105",
   "metadata": {},
   "outputs": [
    {
     "data": {
      "image/png": "[encoded data removed]",
      "text/plain": [
       "<Figure size 1440x432 with 1 Axes>"
      ]
     },
     "metadata": {},
     "output_type": "display_data"
    }
   ],
   "source": [
    "colors_list = sns.color_palette(\"rocket\")\n",
    "plt.pie(x=df_LanguageWorkedWith.iloc[0].nlargest(), autopct='%1.1f%%', labels=None, startangle=90, colors=colors_list, shadow=True, pctdistance=1.12)\n",
    "plt.legend(labels=[x[0] for x, i in df_LanguageWorkedWith.iloc[0].nlargest().items()])\n",
    "\n",
    "plt.rcParams['figure.figsize'] = [20, 6]\n",
    "plt.title('Top 5 Current Used Languages')\n",
    "plt.axis('equal')\n",
    "plt.show()\n"
   ]
  },
  {
   "cell_type": "code",
   "execution_count": 114,
   "id": "268dccd6",
   "metadata": {},
   "outputs": [
    {
     "data": {
      "image/png": "[encoded data removed]",
      "text/plain": [
       "<Figure size 1080x432 with 1 Axes>"
      ]
     },
     "metadata": {
      "needs_background": "light"
     },
     "output_type": "display_data"
    }
   ],
   "source": [
    "plt.bar(x=[x[0] for x, i in df_LanguageWorkedWith.iloc[0].nlargest().items()], height=df_LanguageWorkedWith.iloc[0].nlargest(), color=colors_list)\n",
    "\n",
    "plt.rcParams['figure.figsize'] = [15, 6]\n",
    "\n",
    "plt.title('Top 5 Current Used Languages')\n",
    "plt.show()\n"
   ]
  },
  {
   "cell_type": "code",
   "execution_count": 115,
   "id": "593eb486",
   "metadata": {},
   "outputs": [
    {
     "data": {
      "text/html": [
       "<div>\n",
       "<style scoped>\n",
       "    .dataframe tbody tr th:only-of-type {\n",
       "        vertical-align: middle;\n",
       "    }\n",
       "\n",
       "    .dataframe tbody tr th {\n",
       "        vertical-align: top;\n",
       "    }\n",
       "\n",
       "    .dataframe thead th {\n",
       "        text-align: right;\n",
       "    }\n",
       "</style>\n",
       "<table border=\"1\" class=\"dataframe\">\n",
       "  <thead>\n",
       "    <tr style=\"text-align: right;\">\n",
       "      <th></th>\n",
       "      <th>Respondent</th>\n",
       "      <th>LanguageWorkedWith</th>\n",
       "      <th>LanguageDesireNextYear</th>\n",
       "      <th>DatabaseWorkedWith</th>\n",
       "      <th>DatabaseDesireNextYear</th>\n",
       "      <th>PlatformWorkedWith</th>\n",
       "      <th>PlatformDesireNextYear</th>\n",
       "      <th>WebFrameWorkedWith</th>\n",
       "      <th>WebFrameDesireNextYear</th>\n",
       "      <th>DevEnviron</th>\n",
       "      <th>OpSys</th>\n",
       "      <th>Containers</th>\n",
       "      <th>BlockchainOrg</th>\n",
       "      <th>BlockchainIs</th>\n",
       "    </tr>\n",
       "  </thead>\n",
       "  <tbody>\n",
       "    <tr>\n",
       "      <th>0</th>\n",
       "      <td>NaN</td>\n",
       "      <td>NaN</td>\n",
       "      <td>NaN</td>\n",
       "      <td>NaN</td>\n",
       "      <td>NaN</td>\n",
       "      <td>NaN</td>\n",
       "      <td>NaN</td>\n",
       "      <td>NaN</td>\n",
       "      <td>NaN</td>\n",
       "      <td>NaN</td>\n",
       "      <td>NaN</td>\n",
       "      <td>NaN</td>\n",
       "      <td>NaN</td>\n",
       "      <td>NaN</td>\n",
       "    </tr>\n",
       "    <tr>\n",
       "      <th>1</th>\n",
       "      <td>4.0</td>\n",
       "      <td>C</td>\n",
       "      <td>C</td>\n",
       "      <td>MySQL</td>\n",
       "      <td>MySQL</td>\n",
       "      <td>Linux</td>\n",
       "      <td>Linux</td>\n",
       "      <td>NaN</td>\n",
       "      <td>NaN</td>\n",
       "      <td>Eclipse</td>\n",
       "      <td>NaN</td>\n",
       "      <td>NaN</td>\n",
       "      <td>NaN</td>\n",
       "      <td>NaN</td>\n",
       "    </tr>\n",
       "    <tr>\n",
       "      <th>2</th>\n",
       "      <td>4.0</td>\n",
       "      <td>C++</td>\n",
       "      <td>C#</td>\n",
       "      <td>SQLite</td>\n",
       "      <td>SQLite</td>\n",
       "      <td>Windows</td>\n",
       "      <td>Windows</td>\n",
       "      <td>NaN</td>\n",
       "      <td>NaN</td>\n",
       "      <td>Vim</td>\n",
       "      <td>NaN</td>\n",
       "      <td>NaN</td>\n",
       "      <td>NaN</td>\n",
       "      <td>NaN</td>\n",
       "    </tr>\n",
       "    <tr>\n",
       "      <th>3</th>\n",
       "      <td>4.0</td>\n",
       "      <td>C#</td>\n",
       "      <td>JavaScript</td>\n",
       "      <td>NaN</td>\n",
       "      <td>NaN</td>\n",
       "      <td>NaN</td>\n",
       "      <td>NaN</td>\n",
       "      <td>NaN</td>\n",
       "      <td>NaN</td>\n",
       "      <td>Visual Studio</td>\n",
       "      <td>NaN</td>\n",
       "      <td>NaN</td>\n",
       "      <td>NaN</td>\n",
       "      <td>NaN</td>\n",
       "    </tr>\n",
       "    <tr>\n",
       "      <th>4</th>\n",
       "      <td>4.0</td>\n",
       "      <td>Python</td>\n",
       "      <td>SQL</td>\n",
       "      <td>NaN</td>\n",
       "      <td>NaN</td>\n",
       "      <td>NaN</td>\n",
       "      <td>NaN</td>\n",
       "      <td>NaN</td>\n",
       "      <td>NaN</td>\n",
       "      <td>Visual Studio Code</td>\n",
       "      <td>NaN</td>\n",
       "      <td>NaN</td>\n",
       "      <td>NaN</td>\n",
       "      <td>NaN</td>\n",
       "    </tr>\n",
       "    <tr>\n",
       "      <th>...</th>\n",
       "      <td>...</td>\n",
       "      <td>...</td>\n",
       "      <td>...</td>\n",
       "      <td>...</td>\n",
       "      <td>...</td>\n",
       "      <td>...</td>\n",
       "      <td>...</td>\n",
       "      <td>...</td>\n",
       "      <td>...</td>\n",
       "      <td>...</td>\n",
       "      <td>...</td>\n",
       "      <td>...</td>\n",
       "      <td>...</td>\n",
       "      <td>...</td>\n",
       "    </tr>\n",
       "    <tr>\n",
       "      <th>74585</th>\n",
       "      <td>25142.0</td>\n",
       "      <td>Go</td>\n",
       "      <td>Python</td>\n",
       "      <td>NaN</td>\n",
       "      <td>NaN</td>\n",
       "      <td>NaN</td>\n",
       "      <td>NaN</td>\n",
       "      <td>NaN</td>\n",
       "      <td>NaN</td>\n",
       "      <td>NaN</td>\n",
       "      <td>NaN</td>\n",
       "      <td>NaN</td>\n",
       "      <td>NaN</td>\n",
       "      <td>NaN</td>\n",
       "    </tr>\n",
       "    <tr>\n",
       "      <th>74586</th>\n",
       "      <td>25142.0</td>\n",
       "      <td>HTML/CSS</td>\n",
       "      <td>R</td>\n",
       "      <td>NaN</td>\n",
       "      <td>NaN</td>\n",
       "      <td>NaN</td>\n",
       "      <td>NaN</td>\n",
       "      <td>NaN</td>\n",
       "      <td>NaN</td>\n",
       "      <td>NaN</td>\n",
       "      <td>NaN</td>\n",
       "      <td>NaN</td>\n",
       "      <td>NaN</td>\n",
       "      <td>NaN</td>\n",
       "    </tr>\n",
       "    <tr>\n",
       "      <th>74587</th>\n",
       "      <td>25142.0</td>\n",
       "      <td>PHP</td>\n",
       "      <td>NaN</td>\n",
       "      <td>NaN</td>\n",
       "      <td>NaN</td>\n",
       "      <td>NaN</td>\n",
       "      <td>NaN</td>\n",
       "      <td>NaN</td>\n",
       "      <td>NaN</td>\n",
       "      <td>NaN</td>\n",
       "      <td>NaN</td>\n",
       "      <td>NaN</td>\n",
       "      <td>NaN</td>\n",
       "      <td>NaN</td>\n",
       "    </tr>\n",
       "    <tr>\n",
       "      <th>74588</th>\n",
       "      <td>25142.0</td>\n",
       "      <td>Python</td>\n",
       "      <td>NaN</td>\n",
       "      <td>NaN</td>\n",
       "      <td>NaN</td>\n",
       "      <td>NaN</td>\n",
       "      <td>NaN</td>\n",
       "      <td>NaN</td>\n",
       "      <td>NaN</td>\n",
       "      <td>NaN</td>\n",
       "      <td>NaN</td>\n",
       "      <td>NaN</td>\n",
       "      <td>NaN</td>\n",
       "      <td>NaN</td>\n",
       "    </tr>\n",
       "    <tr>\n",
       "      <th>74589</th>\n",
       "      <td>25142.0</td>\n",
       "      <td>R</td>\n",
       "      <td>NaN</td>\n",
       "      <td>NaN</td>\n",
       "      <td>NaN</td>\n",
       "      <td>NaN</td>\n",
       "      <td>NaN</td>\n",
       "      <td>NaN</td>\n",
       "      <td>NaN</td>\n",
       "      <td>NaN</td>\n",
       "      <td>NaN</td>\n",
       "      <td>NaN</td>\n",
       "      <td>NaN</td>\n",
       "      <td>NaN</td>\n",
       "    </tr>\n",
       "  </tbody>\n",
       "</table>\n",
       "<p>74590 rows × 14 columns</p>\n",
       "</div>"
      ],
      "text/plain": [
       "       Respondent LanguageWorkedWith LanguageDesireNextYear  \\\n",
       "0             NaN                NaN                    NaN   \n",
       "1             4.0                  C                      C   \n",
       "2             4.0                C++                     C#   \n",
       "3             4.0                 C#             JavaScript   \n",
       "4             4.0             Python                    SQL   \n",
       "...           ...                ...                    ...   \n",
       "74585     25142.0                 Go                 Python   \n",
       "74586     25142.0           HTML/CSS                      R   \n",
       "74587     25142.0                PHP                    NaN   \n",
       "74588     25142.0             Python                    NaN   \n",
       "74589     25142.0                  R                    NaN   \n",
       "\n",
       "      DatabaseWorkedWith DatabaseDesireNextYear PlatformWorkedWith  \\\n",
       "0                    NaN                    NaN                NaN   \n",
       "1                  MySQL                  MySQL              Linux   \n",
       "2                 SQLite                 SQLite            Windows   \n",
       "3                    NaN                    NaN                NaN   \n",
       "4                    NaN                    NaN                NaN   \n",
       "...                  ...                    ...                ...   \n",
       "74585                NaN                    NaN                NaN   \n",
       "74586                NaN                    NaN                NaN   \n",
       "74587                NaN                    NaN                NaN   \n",
       "74588                NaN                    NaN                NaN   \n",
       "74589                NaN                    NaN                NaN   \n",
       "\n",
       "      PlatformDesireNextYear WebFrameWorkedWith WebFrameDesireNextYear  \\\n",
       "0                        NaN                NaN                    NaN   \n",
       "1                      Linux                NaN                    NaN   \n",
       "2                    Windows                NaN                    NaN   \n",
       "3                        NaN                NaN                    NaN   \n",
       "4                        NaN                NaN                    NaN   \n",
       "...                      ...                ...                    ...   \n",
       "74585                    NaN                NaN                    NaN   \n",
       "74586                    NaN                NaN                    NaN   \n",
       "74587                    NaN                NaN                    NaN   \n",
       "74588                    NaN                NaN                    NaN   \n",
       "74589                    NaN                NaN                    NaN   \n",
       "\n",
       "               DevEnviron  OpSys  Containers  BlockchainOrg  BlockchainIs  \n",
       "0                     NaN    NaN         NaN            NaN           NaN  \n",
       "1                 Eclipse    NaN         NaN            NaN           NaN  \n",
       "2                     Vim    NaN         NaN            NaN           NaN  \n",
       "3           Visual Studio    NaN         NaN            NaN           NaN  \n",
       "4      Visual Studio Code    NaN         NaN            NaN           NaN  \n",
       "...                   ...    ...         ...            ...           ...  \n",
       "74585                 NaN    NaN         NaN            NaN           NaN  \n",
       "74586                 NaN    NaN         NaN            NaN           NaN  \n",
       "74587                 NaN    NaN         NaN            NaN           NaN  \n",
       "74588                 NaN    NaN         NaN            NaN           NaN  \n",
       "74589                 NaN    NaN         NaN            NaN           NaN  \n",
       "\n",
       "[74590 rows x 14 columns]"
      ]
     },
     "execution_count": 115,
     "metadata": {},
     "output_type": "execute_result"
    }
   ],
   "source": [
    "df"
   ]
  },
  {
   "cell_type": "code",
   "execution_count": 117,
   "id": "3a3a7049",
   "metadata": {},
   "outputs": [],
   "source": [
    "df_LanguageDesireNextYear = df[['LanguageDesireNextYear']]"
   ]
  },
  {
   "cell_type": "code",
   "execution_count": 120,
   "id": "9913c8c4",
   "metadata": {},
   "outputs": [],
   "source": [
    "df_LanguageDesireNextYear=df_LanguageDesireNextYear.dropna()"
   ]
  },
  {
   "cell_type": "code",
   "execution_count": 126,
   "id": "b4079d99",
   "metadata": {},
   "outputs": [
    {
     "data": {
      "text/plain": [
       "LanguageDesireNextYear\n",
       "JavaScript                6630\n",
       "HTML/CSS                  5328\n",
       "Python                    5239\n",
       "SQL                       5012\n",
       "TypeScript                4088\n",
       "dtype: int64"
      ]
     },
     "execution_count": 126,
     "metadata": {},
     "output_type": "execute_result"
    }
   ],
   "source": [
    "df_LanguageDesireNextYear.value_counts().nlargest()"
   ]
  },
  {
   "cell_type": "code",
   "execution_count": 128,
   "id": "9a1f0188",
   "metadata": {},
   "outputs": [
    {
     "data": {
      "image/png": "[encoded data removed]",
      "text/plain": [
       "<Figure size 1080x432 with 1 Axes>"
      ]
     },
     "metadata": {
      "needs_background": "light"
     },
     "output_type": "display_data"
    }
   ],
   "source": [
    "plt.bar(x=[x[0] for x, i in df_LanguageDesireNextYear.value_counts().nlargest().items()], height=df_LanguageDesireNextYear.value_counts().nlargest(), color=colors_list)\n",
    "plt.title('Top 5 Desired Languages for Next Year')\n",
    "plt.show()\n"
   ]
  },
  {
   "cell_type": "code",
   "execution_count": 134,
   "id": "37018969",
   "metadata": {},
   "outputs": [],
   "source": [
    "df_buffer = df[['DatabaseWorkedWith']]"
   ]
  },
  {
   "cell_type": "code",
   "execution_count": 135,
   "id": "289509e9",
   "metadata": {},
   "outputs": [],
   "source": [
    "df_buffer=df_buffer.dropna()"
   ]
  },
  {
   "cell_type": "code",
   "execution_count": 136,
   "id": "f11a5f39",
   "metadata": {},
   "outputs": [
    {
     "data": {
      "text/html": [
       "<div>\n",
       "<style scoped>\n",
       "    .dataframe tbody tr th:only-of-type {\n",
       "        vertical-align: middle;\n",
       "    }\n",
       "\n",
       "    .dataframe tbody tr th {\n",
       "        vertical-align: top;\n",
       "    }\n",
       "\n",
       "    .dataframe thead th {\n",
       "        text-align: right;\n",
       "    }\n",
       "</style>\n",
       "<table border=\"1\" class=\"dataframe\">\n",
       "  <thead>\n",
       "    <tr style=\"text-align: right;\">\n",
       "      <th></th>\n",
       "      <th>DatabaseWorkedWith</th>\n",
       "    </tr>\n",
       "  </thead>\n",
       "  <tbody>\n",
       "    <tr>\n",
       "      <th>1</th>\n",
       "      <td>MySQL</td>\n",
       "    </tr>\n",
       "    <tr>\n",
       "      <th>2</th>\n",
       "      <td>SQLite</td>\n",
       "    </tr>\n",
       "    <tr>\n",
       "      <th>6</th>\n",
       "      <td>DynamoDB</td>\n",
       "    </tr>\n",
       "    <tr>\n",
       "      <th>7</th>\n",
       "      <td>PostgreSQL</td>\n",
       "    </tr>\n",
       "    <tr>\n",
       "      <th>8</th>\n",
       "      <td>SQLite</td>\n",
       "    </tr>\n",
       "    <tr>\n",
       "      <th>...</th>\n",
       "      <td>...</td>\n",
       "    </tr>\n",
       "    <tr>\n",
       "      <th>74557</th>\n",
       "      <td>MySQL</td>\n",
       "    </tr>\n",
       "    <tr>\n",
       "      <th>74561</th>\n",
       "      <td>PostgreSQL</td>\n",
       "    </tr>\n",
       "    <tr>\n",
       "      <th>74572</th>\n",
       "      <td>Microsoft SQL Server</td>\n",
       "    </tr>\n",
       "    <tr>\n",
       "      <th>74573</th>\n",
       "      <td>Redis</td>\n",
       "    </tr>\n",
       "    <tr>\n",
       "      <th>74582</th>\n",
       "      <td>PostgreSQL</td>\n",
       "    </tr>\n",
       "  </tbody>\n",
       "</table>\n",
       "<p>31375 rows × 1 columns</p>\n",
       "</div>"
      ],
      "text/plain": [
       "         DatabaseWorkedWith\n",
       "1                     MySQL\n",
       "2                    SQLite\n",
       "6                  DynamoDB\n",
       "7                PostgreSQL\n",
       "8                    SQLite\n",
       "...                     ...\n",
       "74557                 MySQL\n",
       "74561            PostgreSQL\n",
       "74572  Microsoft SQL Server\n",
       "74573                 Redis\n",
       "74582            PostgreSQL\n",
       "\n",
       "[31375 rows x 1 columns]"
      ]
     },
     "execution_count": 136,
     "metadata": {},
     "output_type": "execute_result"
    }
   ],
   "source": [
    "df_buffer"
   ]
  },
  {
   "cell_type": "code",
   "execution_count": 142,
   "id": "a41f1421",
   "metadata": {},
   "outputs": [
    {
     "data": {
      "image/png": "[encoded data removed]",
      "text/plain": [
       "<Figure size 1080x432 with 1 Axes>"
      ]
     },
     "metadata": {
      "needs_background": "light"
     },
     "output_type": "display_data"
    }
   ],
   "source": [
    "plt.bar(x=[x[0] for x, i in df_buffer.value_counts().nlargest().items()], height=df_buffer.value_counts().nlargest(), color=colors_list)\n",
    "plt.title('Top 5 Currently Used Databases')\n",
    "plt.rcParams['figure.figsize'] = [10, 10]\n",
    "plt.show()"
   ]
  },
  {
   "cell_type": "code",
   "execution_count": 141,
   "id": "e8e93381",
   "metadata": {},
   "outputs": [
    {
     "data": {
      "text/plain": [
       "<Figure size 1080x432 with 0 Axes>"
      ]
     },
     "metadata": {},
     "output_type": "display_data"
    }
   ],
   "source": [
    "plt.savefig(standard_path + 'Top 5 Currently Used Databases.jpg')"
   ]
  },
  {
   "cell_type": "code",
   "execution_count": 143,
   "id": "7ac82053",
   "metadata": {},
   "outputs": [],
   "source": [
    "df_buffer = df[['DatabaseDesireNextYear']]"
   ]
  },
  {
   "cell_type": "code",
   "execution_count": 145,
   "id": "7c49819f",
   "metadata": {},
   "outputs": [],
   "source": [
    "df_buffer = df_buffer.dropna()"
   ]
  },
  {
   "cell_type": "code",
   "execution_count": 146,
   "id": "231493b1",
   "metadata": {},
   "outputs": [
    {
     "data": {
      "text/html": [
       "<div>\n",
       "<style scoped>\n",
       "    .dataframe tbody tr th:only-of-type {\n",
       "        vertical-align: middle;\n",
       "    }\n",
       "\n",
       "    .dataframe tbody tr th {\n",
       "        vertical-align: top;\n",
       "    }\n",
       "\n",
       "    .dataframe thead th {\n",
       "        text-align: right;\n",
       "    }\n",
       "</style>\n",
       "<table border=\"1\" class=\"dataframe\">\n",
       "  <thead>\n",
       "    <tr style=\"text-align: right;\">\n",
       "      <th></th>\n",
       "      <th>DatabaseDesireNextYear</th>\n",
       "    </tr>\n",
       "  </thead>\n",
       "  <tbody>\n",
       "    <tr>\n",
       "      <th>1</th>\n",
       "      <td>MySQL</td>\n",
       "    </tr>\n",
       "    <tr>\n",
       "      <th>2</th>\n",
       "      <td>SQLite</td>\n",
       "    </tr>\n",
       "    <tr>\n",
       "      <th>6</th>\n",
       "      <td>PostgreSQL</td>\n",
       "    </tr>\n",
       "    <tr>\n",
       "      <th>7</th>\n",
       "      <td>Redis</td>\n",
       "    </tr>\n",
       "    <tr>\n",
       "      <th>8</th>\n",
       "      <td>SQLite</td>\n",
       "    </tr>\n",
       "    <tr>\n",
       "      <th>...</th>\n",
       "      <td>...</td>\n",
       "    </tr>\n",
       "    <tr>\n",
       "      <th>74572</th>\n",
       "      <td>Elasticsearch</td>\n",
       "    </tr>\n",
       "    <tr>\n",
       "      <th>74573</th>\n",
       "      <td>MongoDB</td>\n",
       "    </tr>\n",
       "    <tr>\n",
       "      <th>74574</th>\n",
       "      <td>Microsoft SQL Server</td>\n",
       "    </tr>\n",
       "    <tr>\n",
       "      <th>74575</th>\n",
       "      <td>Redis</td>\n",
       "    </tr>\n",
       "    <tr>\n",
       "      <th>74582</th>\n",
       "      <td>PostgreSQL</td>\n",
       "    </tr>\n",
       "  </tbody>\n",
       "</table>\n",
       "<p>29575 rows × 1 columns</p>\n",
       "</div>"
      ],
      "text/plain": [
       "      DatabaseDesireNextYear\n",
       "1                      MySQL\n",
       "2                     SQLite\n",
       "6                 PostgreSQL\n",
       "7                      Redis\n",
       "8                     SQLite\n",
       "...                      ...\n",
       "74572          Elasticsearch\n",
       "74573                MongoDB\n",
       "74574   Microsoft SQL Server\n",
       "74575                  Redis\n",
       "74582             PostgreSQL\n",
       "\n",
       "[29575 rows x 1 columns]"
      ]
     },
     "execution_count": 146,
     "metadata": {},
     "output_type": "execute_result"
    }
   ],
   "source": [
    "df_buffer"
   ]
  },
  {
   "cell_type": "code",
   "execution_count": 150,
   "id": "9871ec27",
   "metadata": {},
   "outputs": [
    {
     "data": {
      "image/png": "[encoded data removed]",
      "text/plain": [
       "<Figure size 1440x720 with 1 Axes>"
      ]
     },
     "metadata": {
      "needs_background": "light"
     },
     "output_type": "display_data"
    }
   ],
   "source": [
    "plt.bar(x=[x[0] for x, i in df_buffer.value_counts().nlargest().items()], height=df_buffer.value_counts().nlargest(), color=colors_list)\n",
    "plt.title('Top 5 Databases for Next Year')\n",
    "plt.rcParams['figure.figsize'] = [20, 6]\n",
    "plt.show()"
   ]
  },
  {
   "cell_type": "code",
   "execution_count": null,
   "id": "a5f0744b",
   "metadata": {},
   "outputs": [],
   "source": [
    "\n"
   ]
  },
  {
   "cell_type": "code",
   "execution_count": 153,
   "id": "36a59cbd",
   "metadata": {},
   "outputs": [
    {
     "data": {
      "text/html": [
       "<div>\n",
       "<style scoped>\n",
       "    .dataframe tbody tr th:only-of-type {\n",
       "        vertical-align: middle;\n",
       "    }\n",
       "\n",
       "    .dataframe tbody tr th {\n",
       "        vertical-align: top;\n",
       "    }\n",
       "\n",
       "    .dataframe thead th {\n",
       "        text-align: right;\n",
       "    }\n",
       "</style>\n",
       "<table border=\"1\" class=\"dataframe\">\n",
       "  <thead>\n",
       "    <tr style=\"text-align: right;\">\n",
       "      <th></th>\n",
       "      <th>DatabaseDesireNextYear</th>\n",
       "    </tr>\n",
       "  </thead>\n",
       "  <tbody>\n",
       "    <tr>\n",
       "      <th>1</th>\n",
       "      <td>MySQL</td>\n",
       "    </tr>\n",
       "    <tr>\n",
       "      <th>2</th>\n",
       "      <td>SQLite</td>\n",
       "    </tr>\n",
       "    <tr>\n",
       "      <th>6</th>\n",
       "      <td>PostgreSQL</td>\n",
       "    </tr>\n",
       "    <tr>\n",
       "      <th>7</th>\n",
       "      <td>Redis</td>\n",
       "    </tr>\n",
       "    <tr>\n",
       "      <th>8</th>\n",
       "      <td>SQLite</td>\n",
       "    </tr>\n",
       "    <tr>\n",
       "      <th>...</th>\n",
       "      <td>...</td>\n",
       "    </tr>\n",
       "    <tr>\n",
       "      <th>74572</th>\n",
       "      <td>Elasticsearch</td>\n",
       "    </tr>\n",
       "    <tr>\n",
       "      <th>74573</th>\n",
       "      <td>MongoDB</td>\n",
       "    </tr>\n",
       "    <tr>\n",
       "      <th>74574</th>\n",
       "      <td>Microsoft SQL Server</td>\n",
       "    </tr>\n",
       "    <tr>\n",
       "      <th>74575</th>\n",
       "      <td>Redis</td>\n",
       "    </tr>\n",
       "    <tr>\n",
       "      <th>74582</th>\n",
       "      <td>PostgreSQL</td>\n",
       "    </tr>\n",
       "  </tbody>\n",
       "</table>\n",
       "<p>29575 rows × 1 columns</p>\n",
       "</div>"
      ],
      "text/plain": [
       "      DatabaseDesireNextYear\n",
       "1                      MySQL\n",
       "2                     SQLite\n",
       "6                 PostgreSQL\n",
       "7                      Redis\n",
       "8                     SQLite\n",
       "...                      ...\n",
       "74572          Elasticsearch\n",
       "74573                MongoDB\n",
       "74574   Microsoft SQL Server\n",
       "74575                  Redis\n",
       "74582             PostgreSQL\n",
       "\n",
       "[29575 rows x 1 columns]"
      ]
     },
     "execution_count": 153,
     "metadata": {},
     "output_type": "execute_result"
    }
   ],
   "source": [
    "df_buffer"
   ]
  },
  {
   "cell_type": "code",
   "execution_count": null,
   "id": "6f45cd9d",
   "metadata": {},
   "outputs": [],
   "source": []
  }
 ],
 "metadata": {
  "kernelspec": {
   "display_name": "Python 3 (ipykernel)",
   "language": "python",
   "name": "python3"
  },
  "language_info": {
   "codemirror_mode": {
    "name": "ipython",
    "version": 3
   },
   "file_extension": ".py",
   "mimetype": "text/x-python",
   "name": "python",
   "nbconvert_exporter": "python",
   "pygments_lexer": "ipython3",
   "version": "3.10.7"
  }
 },
 "nbformat": 4,
 "nbformat_minor": 5
}
